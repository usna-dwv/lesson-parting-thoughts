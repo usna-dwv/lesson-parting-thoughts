{
 "cells": [
  {
   "cell_type": "markdown",
   "metadata": {},
   "source": [
    "**SA433 &#x25aa; Data Wrangling and Visualization &#x25aa; Fall 2024**"
   ]
  },
  {
   "cell_type": "markdown",
   "metadata": {},
   "source": [
    "# Lesson 23. Parting Thoughts"
   ]
  },
  {
   "cell_type": "markdown",
   "metadata": {},
   "source": [
    "## We learned a lot this semester... 🤔"
   ]
  },
  {
   "cell_type": "markdown",
   "metadata": {},
   "source": [
    "- We learned about **visualizing data** with Altair through a **grammar of graphics**:\n",
    "    - *Encoding channels* map variables to visual attributes (e.g. x-position, y-position, color, shape)<br style='margin-bottom:100px'/>\n",
    "    - *Graphical marks* specify how those attributes should be visually represented \n",
    "    - *Transformations* such as *aggregations* recast or filter the data before visualization\n",
    "    - *Bindings*, *selections*, and *conditions* specify how to make a chart interactive\n",
    "    - *Layering*, *concatenation*, and *faceting* specify how to combine or generate multiple related charts"
   ]
  },
  {
   "cell_type": "markdown",
   "metadata": {},
   "source": [
    "- We can generate a broad range of charts by specifying these components "
   ]
  },
  {
   "cell_type": "markdown",
   "metadata": {},
   "source": [
    "- We also learned about **wrangling** data with Pandas through a **grammar of data manipulation**:\n",
    "    - *Filtering rows* based on their values\n",
    "    - *Selecting and dropping columns* based on their names\n",
    "    - *Sorting rows* based on their values\n",
    "    - *Creating new columns* that are functions of existing columns\n",
    "    - Aggregating, transforming, and filtering *groups of data* through *split-apply-combine*\n",
    "    - *Pivoting* data from long form to wide form and vice versa\n",
    "    - *Merging* datasets together based on key columns"
   ]
  },
  {
   "cell_type": "markdown",
   "metadata": {},
   "source": [
    "- We can perform a wide array of data wrangling tasks by combining these operations\n",
    "    - For example, we learned how to wrangle tabular data into **tidy data**: each variable has its own column, each observation has its own row, and each value has its own cell"
   ]
  },
  {
   "cell_type": "markdown",
   "metadata": {},
   "source": [
    "- These grammars aren't specific to Altair and Pandas, or even Python:\n",
    "    - [ggplot2](https://ggplot2.tidyverse.org/) is a grammar of graphics package for R\n",
    "    - [dplyr](https://dplyr.tidyverse.org/) is a grammar of data manipulation package for R"
   ]
  },
  {
   "cell_type": "markdown",
   "metadata": {},
   "source": [
    "## There's so much more to learn... 😃"
   ]
  },
  {
   "cell_type": "markdown",
   "metadata": {},
   "source": [
    "*Here are a few examples...*"
   ]
  },
  {
   "cell_type": "markdown",
   "metadata": {},
   "source": [
    "### Storytelling with data visualization\n",
    "\n",
    "- Data visualization is often used to tell a story: \n",
    "    - analysts sharing the results of their work\n",
    "    - staff convincing managers to make a particular decision\n",
    "    - leaders proving their impact"
   ]
  },
  {
   "cell_type": "markdown",
   "metadata": {},
   "source": [
    "- What are effective ways to tell a story with data visualization?"
   ]
  },
  {
   "cell_type": "markdown",
   "metadata": {},
   "source": [
    "- This book provides some practical guidance on how to better communicate visually with data:\n",
    "\n",
    "    > Cole Nussbaumer Knaflic. *Storytelling with Data: A Data Visualization Guide for Business Professionals*. Wiley, 2015."
   ]
  },
  {
   "cell_type": "markdown",
   "metadata": {},
   "source": [
    "### Getting data through web scraping\n",
    "\n",
    "- **Web scraping** is the process of collecting structured data from websites in an automated fashion\n",
    "\n",
    "\n",
    "- We learned about some rudimentary web scraping functionality in Pandas\n",
    "\n",
    "\n",
    "- [Beautiful Soup](https://www.crummy.com/software/BeautifulSoup/bs4/doc/) is a popular Python library for web scraping"
   ]
  },
  {
   "cell_type": "markdown",
   "metadata": {},
   "source": [
    "### Getting data through website APIs\n",
    "\n",
    "- Some websites have an **API** (application programming interface) that lets you access its data in a programmatic way\n",
    "\n",
    "\n",
    "- For example, [the Twitter API](https://developer.twitter.com/en/docs) lets you write code to retrieve tweets so that you can analyze them with the techniques of your choice"
   ]
  },
  {
   "cell_type": "markdown",
   "metadata": {},
   "source": [
    "### Interoperability between R and Python\n",
    "\n",
    "- You've used R in your other operations research classes &mdash; how can you tie what you've learned in this class to R?\n",
    "\n",
    "\n",
    "- For example, suppose you wrangled some data in Python/Pandas and now, you want to run a linear regression on that data using R\n",
    "\n",
    "\n",
    "- You could write the Pandas DataFrame to a CSV file, and then read that CSV file back into R\n",
    "\n",
    "\n",
    "- Or, you could use [rpy2](https://rpy2.github.io/doc.html), a Python library that lets you call R directly from inside Python!\n",
    "\n",
    "\n",
    "- Alternately, you could use [reticulate](https://rstudio.github.io/reticulate/), an R library that lets you do the opposite: call Python directly from inside R"
   ]
  },
  {
   "cell_type": "markdown",
   "metadata": {},
   "source": [
    "## I hope you find this course useful!"
   ]
  },
  {
   "cell_type": "markdown",
   "metadata": {},
   "source": [
    "- Go be a data wrangling and visualization superstar in your academic, professional, and personal projects ⭐️"
   ]
  }
 ],
 "metadata": {
  "kernelspec": {
   "display_name": "Python 3 (ipykernel)",
   "language": "python",
   "name": "python3"
  },
  "language_info": {
   "codemirror_mode": {
    "name": "ipython",
    "version": 3
   },
   "file_extension": ".py",
   "mimetype": "text/x-python",
   "name": "python",
   "nbconvert_exporter": "python",
   "pygments_lexer": "ipython3",
   "version": "3.11.3"
  }
 },
 "nbformat": 4,
 "nbformat_minor": 4
}
